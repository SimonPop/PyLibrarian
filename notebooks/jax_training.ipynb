{
 "cells": [
  {
   "cell_type": "markdown",
   "metadata": {},
   "source": [
    "# Exploring JAX as a model backend."
   ]
  },
  {
   "cell_type": "code",
   "execution_count": null,
   "metadata": {},
   "outputs": [],
   "source": [
    "import pandas as pd\n",
    "import ast\n",
    "\n",
    "import torch\n",
    "import numpy as np\n",
    "from torch.utils import data\n",
    "\n",
    "import numpy as np\n",
    "from jax.tree_util import tree_map\n",
    "from torch.utils import data\n",
    "import jax.numpy as jnp\n",
    "import haiku as hk\n",
    "import optax\n",
    "import jax\n",
    "import time\n",
    "\n",
    "from pylibrarian.recommender.models import AttentionModel\n",
    "from pylibrarian.dataset.package_dataset import PackageDataset\n",
    "from pylibrarian.dataset.numpy_loader import NumpyLoader"
   ]
  },
  {
   "cell_type": "markdown",
   "metadata": {},
   "source": [
    "## Dataset creation"
   ]
  },
  {
   "cell_type": "code",
   "execution_count": null,
   "metadata": {},
   "outputs": [],
   "source": [
    "df = pd.read_csv('../data/pypi_packages.csv', delimiter=\";\")\n",
    "dataset = PackageDataset(df)\n",
    "training_generator = NumpyLoader(dataset, batch_size=4, num_workers=0)"
   ]
  },
  {
   "cell_type": "markdown",
   "metadata": {},
   "source": [
    "## Model"
   ]
  },
  {
   "cell_type": "code",
   "execution_count": null,
   "metadata": {},
   "outputs": [],
   "source": [
    "def _custom_forward_fn(x, y):\n",
    "  module = AttentionModel(vocab_size=len(dataset.tokenizer) + 1)\n",
    "  return module(x, y)"
   ]
  },
  {
   "cell_type": "code",
   "execution_count": null,
   "metadata": {},
   "outputs": [],
   "source": [
    "custom_forward_without_rng = hk.without_apply_rng(hk.transform(_custom_forward_fn))\n",
    "params = custom_forward_without_rng.init(rng=jax.random.PRNGKey(0), x=dataset[0]['x'][None,:], y=dataset[0]['y'][None,:])"
   ]
  },
  {
   "cell_type": "code",
   "execution_count": null,
   "metadata": {},
   "outputs": [],
   "source": [
    "def loss(params, x, y, label):\n",
    "  logits = custom_forward_without_rng.apply(params, y=y, x=x)\n",
    "  return jnp.mean(optax.sigmoid_binary_cross_entropy(logits, label))"
   ]
  },
  {
   "cell_type": "markdown",
   "metadata": {},
   "source": [
    "## Training loop"
   ]
  },
  {
   "cell_type": "code",
   "execution_count": null,
   "metadata": {},
   "outputs": [],
   "source": [
    "def fit(params, optimizer, num_epochs: int = 10):\n",
    "  opt_state = optimizer.init(params)\n",
    "\n",
    "  @jax.jit\n",
    "  def step(params, opt_state, batch):\n",
    "    loss_value, grads = jax.value_and_grad(loss)(params, **batch)\n",
    "    updates, opt_state = optimizer.update(grads, opt_state, params)\n",
    "    params = optax.apply_updates(params, updates)\n",
    "    return params, opt_state, loss_value\n",
    "\n",
    "  for epoch in range(num_epochs):\n",
    "    start_time = time.time()\n",
    "    for i, batch in enumerate(training_generator):\n",
    "      params, opt_state, loss_value = step(params, opt_state, batch)\n",
    "      if i % 100 == 0:\n",
    "        print(f'step {i}, loss: {loss_value}')\n",
    "    epoch_time = time.time() - start_time\n",
    "\n",
    "\n",
    "optimizer = optax.adam(learning_rate=1e-2)\n",
    "params = fit(params, optimizer)"
   ]
  }
 ],
 "metadata": {
  "kernelspec": {
   "display_name": "Python 3",
   "language": "python",
   "name": "python3"
  },
  "language_info": {
   "codemirror_mode": {
    "name": "ipython",
    "version": 3
   },
   "file_extension": ".py",
   "mimetype": "text/x-python",
   "name": "python",
   "nbconvert_exporter": "python",
   "pygments_lexer": "ipython3",
   "version": "3.10.12"
  }
 },
 "nbformat": 4,
 "nbformat_minor": 2
}
